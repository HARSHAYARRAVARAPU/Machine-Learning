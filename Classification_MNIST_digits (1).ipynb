{
 "cells": [
  {
   "cell_type": "code",
   "execution_count": 407,
   "metadata": {},
   "outputs": [],
   "source": [
    "#MNIST Handwritten digits is classic dataset for classification task\n",
    "#Here we are applying various Machine learning models to classify the digits\n",
    "#\n",
    "#import packages\n",
    "import sklearn\n",
    "import numpy\n",
    "import matplotlib.pyplot as plt\n",
    "import pandas\n",
    "from sklearn.preprocessing import StandardScaler\n",
    "from sklearn.linear_model import LogisticRegression\n",
    "from sklearn.svm import SVC\n",
    "from sklearn.ensemble import RandomForestClassifier\n",
    "from sklearn.metrics import accuracy_score\n",
    "from sklearn.metrics import confusion_matrix\n",
    "from sklearn.model_selection import StratifiedKFold"
   ]
  },
  {
   "cell_type": "code",
   "execution_count": 416,
   "metadata": {},
   "outputs": [],
   "source": [
    "#Loading the digits dataset\n",
    "from sklearn.datasets import load_digits\n",
    "df = load_digits()"
   ]
  },
  {
   "cell_type": "code",
   "execution_count": 417,
   "metadata": {},
   "outputs": [
    {
     "data": {
      "text/plain": [
       "array([[ 0.,  0.,  5., 13.,  9.,  1.,  0.,  0.],\n",
       "       [ 0.,  0., 13., 15., 10., 15.,  5.,  0.],\n",
       "       [ 0.,  3., 15.,  2.,  0., 11.,  8.,  0.],\n",
       "       [ 0.,  4., 12.,  0.,  0.,  8.,  8.,  0.],\n",
       "       [ 0.,  5.,  8.,  0.,  0.,  9.,  8.,  0.],\n",
       "       [ 0.,  4., 11.,  0.,  1., 12.,  7.,  0.],\n",
       "       [ 0.,  2., 14.,  5., 10., 12.,  0.,  0.],\n",
       "       [ 0.,  0.,  6., 13., 10.,  0.,  0.,  0.]])"
      ]
     },
     "execution_count": 417,
     "metadata": {},
     "output_type": "execute_result"
    }
   ],
   "source": [
    "df.images[0]"
   ]
  },
  {
   "cell_type": "code",
   "execution_count": 418,
   "metadata": {},
   "outputs": [
    {
     "data": {
      "text/plain": [
       "<matplotlib.figure.Figure at 0x29bd6633400>"
      ]
     },
     "metadata": {},
     "output_type": "display_data"
    },
    {
     "data": {
      "image/png": "[encoded data removed]",
      "text/plain": [
       "<matplotlib.figure.Figure at 0x29bd66336d8>"
      ]
     },
     "metadata": {
      "needs_background": "light"
     },
     "output_type": "display_data"
    }
   ],
   "source": [
    "#Representation of the digit on gray scale\n",
    "plt.gray()\n",
    "plt.matshow(df.images[0])\n",
    "plt.show()"
   ]
  },
  {
   "cell_type": "code",
   "execution_count": 419,
   "metadata": {},
   "outputs": [],
   "source": [
    "#Taking out the features and targests from the dataset\n",
    "X= df.data\n",
    "y = df.target"
   ]
  },
  {
   "cell_type": "code",
   "execution_count": 420,
   "metadata": {},
   "outputs": [
    {
     "name": "stdout",
     "output_type": "stream",
     "text": [
      "[ 0.  0.  5. 14.  0.  0.  0.  0.  0.  0. 12.  9.  0.  0.  0.  0.  0.  0.\n",
      " 15.  3.  0.  0.  0.  0.  0.  1. 16.  0.  0.  0.  0.  0.  0.  1. 16.  2.\n",
      "  7.  4.  0.  0.  0.  3. 16. 16. 16. 16.  9.  0.  0.  0. 15. 15.  4. 10.\n",
      " 16.  0.  0.  0.  4. 14. 16. 12.  7.  0.]\n",
      "6\n"
     ]
    },
    {
     "data": {
      "text/plain": [
       "(None, None)"
      ]
     },
     "execution_count": 420,
     "metadata": {},
     "output_type": "execute_result"
    }
   ],
   "source": [
    "print(X[67]) , print((y[67]))"
   ]
  },
  {
   "cell_type": "code",
   "execution_count": 421,
   "metadata": {},
   "outputs": [],
   "source": [
    "#Applying train_test_split on the data set\n",
    "#Uncomment the following lines if u don't want to apply StratifiedKFold \n",
    "#from sklearn.model_selection import train_test_split\n",
    "#X_train , X_test, y_train, y_test = train_test_split(X,y, test_size =0.2, random_state=42)"
   ]
  },
  {
   "cell_type": "code",
   "execution_count": 422,
   "metadata": {},
   "outputs": [],
   "source": [
    "#Train and test shapes which are divided in 80:20 ratio\n",
    "#print(X_train.shape, X_test.shape)\n",
    "#y_train ,y_test  = y_train.ravel(), y_test.ravel()\n",
    "#print((y_train.shape), (y_test.shape))"
   ]
  },
  {
   "cell_type": "code",
   "execution_count": 423,
   "metadata": {},
   "outputs": [],
   "source": [
    "#Machine learning models with the hyperparameters tuned \n",
    "lr = LogisticRegression(C=1.0, max_iter = 200, multi_class ='auto', solver ='liblinear')\n",
    "svm = SVC(C= 1.2 , gamma ='auto')\n",
    "rf = RandomForestClassifier(n_estimators = 25, criterion = 'gini')"
   ]
  },
  {
   "cell_type": "code",
   "execution_count": 427,
   "metadata": {},
   "outputs": [],
   "source": [
    "#Fitting the model function\n",
    "def model_fit(model, X, Y, x_test, y_test):\n",
    "    #Scaling the data as svm will prone to less\n",
    "    #accuracy if not done\n",
    "    scaler = StandardScaler()\n",
    "    X = scaler.fit_transform(X)\n",
    "    x_test = scaler.transform(x_test)\n",
    "    \n",
    "    #Fitting the model\n",
    "    model = model.fit(X,Y)\n",
    "    Y_pred = model.predict(x_test)\n",
    "    print(accuracy_score(y_test , Y_pred))\n",
    "    print(confusion_matrix(y_test , Y_pred))\n",
    "    return model, Y_pred"
   ]
  },
  {
   "cell_type": "code",
   "execution_count": 443,
   "metadata": {},
   "outputs": [
    {
     "name": "stdout",
     "output_type": "stream",
     "text": [
      "\n",
      "Accuracy and Confusion matrix for Logistic Regression\n",
      "0.9318181818181818\n",
      "[[17  0  0  0  0  0  0  0  0  0]\n",
      " [ 0 16  0  0  0  0  0  0  2  0]\n",
      " [ 0  0 17  0  0  0  0  0  0  0]\n",
      " [ 0  0  0 12  0  3  0  0  3  0]\n",
      " [ 0  0  0  0 17  0  0  0  1  0]\n",
      " [ 0  0  0  0  0 18  0  0  0  0]\n",
      " [ 0  0  0  0  0  0 18  0  0  0]\n",
      " [ 0  0  0  0  1  0  0 16  0  0]\n",
      " [ 0  0  0  0  0  0  0  0 17  0]\n",
      " [ 0  0  0  1  0  1  0  0  0 16]]\n",
      "\n",
      "Accuracy and Confusion matrix for SVM\n",
      "0.9545454545454546\n",
      "[[17  0  0  0  0  0  0  0  0  0]\n",
      " [ 0 18  0  0  0  0  0  0  0  0]\n",
      " [ 0  0 17  0  0  0  0  0  0  0]\n",
      " [ 0  0  0 13  0  3  0  0  2  0]\n",
      " [ 0  0  0  0 18  0  0  0  0  0]\n",
      " [ 0  0  0  0  0 18  0  0  0  0]\n",
      " [ 0  0  0  0  0  0 18  0  0  0]\n",
      " [ 0  0  0  0  0  1  0 16  0  0]\n",
      " [ 0  0  0  0  0  0  0  0 17  0]\n",
      " [ 0  0  0  0  0  1  0  0  1 16]]\n",
      "\n",
      "Accuracy and Confusion matrix for Random Forest\n",
      "0.9261363636363636\n",
      "[[17  0  0  0  0  0  0  0  0  0]\n",
      " [ 0 18  0  0  0  0  0  0  0  0]\n",
      " [ 0  0 17  0  0  0  0  0  0  0]\n",
      " [ 0  0  0 11  0  3  0  0  4  0]\n",
      " [ 0  0  0  0 17  0  0  0  1  0]\n",
      " [ 0  0  0  0  0 17  1  0  0  0]\n",
      " [ 0  0  0  0  0  0 18  0  0  0]\n",
      " [ 0  0  0  0  0  0  0 17  0  0]\n",
      " [ 0  0  0  0  0  0  0  1 16  0]\n",
      " [ 0  0  0  0  0  1  0  1  1 15]]\n"
     ]
    }
   ],
   "source": [
    "#Applying the StratifiedKFold on the data set so it gives better accuracy and consistent results \n",
    "#than train_test_split\n",
    "skf = StratifiedKFold(n_splits =10, random_state =42)\n",
    "for train_index, test_index in skf.split(X,y):\n",
    "    X_train, X_test = X[train_index], X[test_index]\n",
    "    y_train, y_test = y[train_index], y[test_index]\n",
    "    \n",
    "print(\"\\nAccuracy and Confusion matrix for Logistic Regression\")    \n",
    "lr , lr_pred = model_fit(lr, X_train, y_train, X_test, y_test)\n",
    "print(\"\\nAccuracy and Confusion matrix for SVM\")   \n",
    "svm , svm_pred = model_fit(svm, X_train, y_train, X_test, y_test)\n",
    "print(\"\\nAccuracy and Confusion matrix for Random Forest\")   \n",
    "rf , rf_pred= model_fit(rf, X_train, y_train, X_test, y_test)"
   ]
  },
  {
   "cell_type": "code",
   "execution_count": 448,
   "metadata": {},
   "outputs": [],
   "source": [
    "#Writing the Predicted and actual results into a csv file\n",
    "import pandas as pd\n",
    "new_data_frame = pd.DataFrame(lr_pred, y_test, columns =['Actual'])\n",
    "new_data_frame.to_csv(r\"C:\\Users\\yarravarapu.p\\Desktop\\all_models.csv\")\n"
   ]
  },
  {
   "cell_type": "code",
   "execution_count": 455,
   "metadata": {},
   "outputs": [
    {
     "data": {
      "text/plain": [
       "['joblib_model.pkl']"
      ]
     },
     "execution_count": 455,
     "metadata": {},
     "output_type": "execute_result"
    }
   ],
   "source": [
    "#Saving the model using Joblib we can also use pickle, json\n",
    "from sklearn.externals import joblib\n",
    "joblib_file = \"joblib_model.pkl\"\n",
    "#Dumping the model\n",
    "joblib.dump(rf, joblib_file)"
   ]
  },
  {
   "cell_type": "code",
   "execution_count": 456,
   "metadata": {},
   "outputs": [
    {
     "data": {
      "text/plain": [
       "RandomForestClassifier(bootstrap=True, class_weight=None, criterion='gini',\n",
       "            max_depth=None, max_features='auto', max_leaf_nodes=None,\n",
       "            min_impurity_decrease=0.0, min_impurity_split=None,\n",
       "            min_samples_leaf=1, min_samples_split=2,\n",
       "            min_weight_fraction_leaf=0.0, n_estimators=25, n_jobs=None,\n",
       "            oob_score=False, random_state=None, verbose=0,\n",
       "            warm_start=False)"
      ]
     },
     "execution_count": 456,
     "metadata": {},
     "output_type": "execute_result"
    }
   ],
   "source": [
    "#Loading the model\n",
    "model = joblib.load(r\"C:\\Users\\yarravarapu.p\\joblib_model.pkl\")\n",
    "model"
   ]
  },
  {
   "cell_type": "code",
   "execution_count": 457,
   "metadata": {},
   "outputs": [
    {
     "name": "stdout",
     "output_type": "stream",
     "text": [
      "0.9147727272727273\n"
     ]
    }
   ],
   "source": [
    "#Predicting the model on test data\n",
    "scaler = StandardScaler()\n",
    "X_test = scaler.fit_transform(X_test)\n",
    "pred = model.predict(X_test)\n",
    "print(accuracy_score(y_test, pred))\n",
    "#print(accuracy_score(X_train, y_train))"
   ]
  },
  {
   "cell_type": "code",
   "execution_count": null,
   "metadata": {},
   "outputs": [],
   "source": []
  }
 ],
 "metadata": {
  "kernelspec": {
   "display_name": "Python 3",
   "language": "python",
   "name": "python3"
  },
  "language_info": {
   "codemirror_mode": {
    "name": "ipython",
    "version": 3
   },
   "file_extension": ".py",
   "mimetype": "text/x-python",
   "name": "python",
   "nbconvert_exporter": "python",
   "pygments_lexer": "ipython3",
   "version": "3.6.4"
  }
 },
 "nbformat": 4,
 "nbformat_minor": 2
}
